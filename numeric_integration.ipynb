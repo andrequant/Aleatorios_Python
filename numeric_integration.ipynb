{
  "nbformat": 4,
  "nbformat_minor": 0,
  "metadata": {
    "colab": {
      "name": "numeric_integration.ipynb",
      "version": "0.3.2",
      "provenance": [],
      "include_colab_link": true
    },
    "kernelspec": {
      "name": "python3",
      "display_name": "Python 3"
    }
  },
  "cells": [
    {
      "cell_type": "markdown",
      "metadata": {
        "id": "view-in-github",
        "colab_type": "text"
      },
      "source": [
        "<a href=\"https://colab.research.google.com/github/andrequant/Aleatorios_Python/blob/master/numeric_integration.ipynb\" target=\"_parent\"><img src=\"https://colab.research.google.com/assets/colab-badge.svg\" alt=\"Open In Colab\"/></a>"
      ]
    },
    {
      "cell_type": "markdown",
      "metadata": {
        "id": "EIHiHHczwbRB",
        "colab_type": "text"
      },
      "source": [
        "## This program calculates a integral using Trapezoidal Rule"
      ]
    },
    {
      "cell_type": "code",
      "metadata": {
        "id": "c4hvB1uQwN4V",
        "colab_type": "code",
        "colab": {}
      },
      "source": [
        "import math"
      ],
      "execution_count": 0,
      "outputs": []
    },
    {
      "cell_type": "code",
      "metadata": {
        "id": "FIr4YD1lICQC",
        "colab_type": "code",
        "colab": {}
      },
      "source": [
        "#funcao a ser integrada\n",
        "\n",
        "def funct(a):\n",
        "  \n",
        "  c = ((2/(3**0.5)))*(math.pi**(-0.25))*(1-(a**2))*math.exp((-(a**2))/2)\n",
        "  \n",
        "  return c"
      ],
      "execution_count": 0,
      "outputs": []
    },
    {
      "cell_type": "code",
      "metadata": {
        "id": "_0UtKdhPIJLw",
        "colab_type": "code",
        "colab": {}
      },
      "source": [
        "def integrate(func,inf,sup,prec):\n",
        "  \n",
        "  prec = 10**prec\n",
        "  \n",
        "  stp = (sup-inf)/prec\n",
        "  \n",
        "  temp_inf = inf\n",
        "  \n",
        "  integr = 0\n",
        "  \n",
        "  for i in range(0,prec):\n",
        "    \n",
        "    a = temp_inf\n",
        "    b = temp_inf + stp\n",
        "    \n",
        "    fa = func(a)\n",
        "    fb = func(b)\n",
        "    \n",
        "    integr += (b-a)*((fa+fb)/2)\n",
        "    \n",
        "  return integr"
      ],
      "execution_count": 0,
      "outputs": []
    },
    {
      "cell_type": "code",
      "metadata": {
        "id": "KlIO8rvfIRsK",
        "colab_type": "code",
        "colab": {
          "base_uri": "https://localhost:8080/",
          "height": 34
        },
        "outputId": "d2894b68-03eb-45fd-934f-20e3ac6fdbbf"
      },
      "source": [
        "integrate(funct,-10,10,6)"
      ],
      "execution_count": 57,
      "outputs": [
        {
          "output_type": "execute_result",
          "data": {
            "text/plain": [
              "-3.312573698849993e-19"
            ]
          },
          "metadata": {
            "tags": []
          },
          "execution_count": 57
        }
      ]
    },
    {
      "cell_type": "code",
      "metadata": {
        "id": "lxBqyzhSLgbd",
        "colab_type": "code",
        "colab": {}
      },
      "source": [
        ""
      ],
      "execution_count": 0,
      "outputs": []
    }
  ]
}