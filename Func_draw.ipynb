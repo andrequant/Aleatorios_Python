{
  "nbformat": 4,
  "nbformat_minor": 0,
  "metadata": {
    "colab": {
      "name": "Func_draw.ipynb",
      "version": "0.3.2",
      "provenance": [],
      "collapsed_sections": [],
      "include_colab_link": true
    },
    "kernelspec": {
      "name": "python3",
      "display_name": "Python 3"
    }
  },
  "cells": [
    {
      "cell_type": "markdown",
      "metadata": {
        "id": "view-in-github",
        "colab_type": "text"
      },
      "source": [
        "<a href=\"https://colab.research.google.com/github/andrequant/Aleatorios_Python/blob/master/Func_draw.ipynb\" target=\"_parent\"><img src=\"https://colab.research.google.com/assets/colab-badge.svg\" alt=\"Open In Colab\"/></a>"
      ]
    },
    {
      "cell_type": "code",
      "metadata": {
        "id": "PkVdyoGT_T5-",
        "colab_type": "code",
        "colab": {}
      },
      "source": [
        "import math\n",
        "import numpy\n",
        "import matplotlib as mp"
      ],
      "execution_count": 0,
      "outputs": []
    },
    {
      "cell_type": "code",
      "metadata": {
        "id": "7TWePdHv_6P2",
        "colab_type": "code",
        "colab": {}
      },
      "source": [
        "def funct(a):\n",
        "  \n",
        "  c = ((2/(3**0.5)))*(math.pi**(-0.25))*(1-(a**2))*math.exp((-(a**2))/2)\n",
        "  \n",
        "  return c"
      ],
      "execution_count": 0,
      "outputs": []
    },
    {
      "cell_type": "code",
      "metadata": {
        "id": "gy3rYyrUAFok",
        "colab_type": "code",
        "colab": {}
      },
      "source": [
        "inf = -10\n",
        "sup = 10"
      ],
      "execution_count": 0,
      "outputs": []
    },
    {
      "cell_type": "code",
      "metadata": {
        "id": "ufMrijgfAK_M",
        "colab_type": "code",
        "colab": {}
      },
      "source": [
        "vetor =[]\n",
        "\n",
        "n = 1000\n",
        "stp = (sup-inf)/n\n",
        "x = inf\n",
        "\n",
        "\n",
        "for n in range(0,n):\n",
        "  \n",
        "  temp = funct(x)\n",
        "  \n",
        "  vetor.append(temp)\n",
        "  \n",
        "  x += stp\n",
        "  \n",
        "  "
      ],
      "execution_count": 0,
      "outputs": []
    },
    {
      "cell_type": "code",
      "metadata": {
        "id": "KbVs6ixEBvqz",
        "colab_type": "code",
        "colab": {
          "base_uri": "https://localhost:8080/",
          "height": 286
        },
        "outputId": "4e169543-1b66-4bf7-fa5d-d71958cd2add"
      },
      "source": [
        "mp.pyplot.plot(vetor)"
      ],
      "execution_count": 71,
      "outputs": [
        {
          "output_type": "execute_result",
          "data": {
            "text/plain": [
              "[<matplotlib.lines.Line2D at 0x7f7362f57ba8>]"
            ]
          },
          "metadata": {
            "tags": []
          },
          "execution_count": 71
        },
        {
          "output_type": "display_data",
          "data": {
            "image/png": "[encoded data removed]",
            "text/plain": [
              "<Figure size 432x288 with 1 Axes>"
            ]
          },
          "metadata": {
            "tags": []
          }
        }
      ]
    },
    {
      "cell_type": "code",
      "metadata": {
        "id": "qj1XNyY5CK87",
        "colab_type": "code",
        "colab": {}
      },
      "source": [
        ""
      ],
      "execution_count": 0,
      "outputs": []
    }
  ]
}