{
 "cells": [
  {
   "cell_type": "code",
   "execution_count": 207,
   "metadata": {
    "collapsed": true
   },
   "outputs": [],
   "source": [
    "import numpy as np\n",
    "import math\n",
    "import matplotlib.pyplot as plt"
   ]
  },
  {
   "cell_type": "markdown",
   "metadata": {},
   "source": [
    "## Matrizes ##\n",
    "#### Importa as matrizes de correlação e volatilidade. Calcula a matriz de covâriancia. ####"
   ]
  },
  {
   "cell_type": "code",
   "execution_count": 208,
   "metadata": {
    "collapsed": false
   },
   "outputs": [],
   "source": [
    "correl_matrix = np.genfromtxt('correl_matrix.csv',delimiter=',')\n",
    "vol_vector = np.genfromtxt('stds.csv', delimiter=',')\n",
    "vol_matrix = np.diag(vol_vector)\n",
    "size = vol_vector.size\n",
    "ones_vector = np.ones(size)\n",
    "\n",
    "cov_matrix = np.matmul(np.matmul(vol_matrix,correl_matrix),vol_matrix)"
   ]
  },
  {
   "cell_type": "markdown",
   "metadata": {},
   "source": [
    "## Portfolio de Minima-Variância ##"
   ]
  },
  {
   "cell_type": "code",
   "execution_count": 209,
   "metadata": {
    "collapsed": false
   },
   "outputs": [],
   "source": [
    "MinVarW_vector = (np.matmul(np.linalg.inv(cov_matrix),ones_vector))\\\n",
    "                /(np.matmul(np.matmul(ones_vector,np.linalg.inv(cov_matrix)),ones_vector))"
   ]
  },
  {
   "cell_type": "code",
   "execution_count": 210,
   "metadata": {
    "collapsed": false
   },
   "outputs": [
    {
     "name": "stdout",
     "output_type": "stream",
     "text": [
      "[ 0.84138204  0.44814227 -0.33658361 -0.39613129  0.44319059]\n"
     ]
    }
   ],
   "source": [
    "print(MinVarW_vector)"
   ]
  },
  {
   "cell_type": "markdown",
   "metadata": {},
   "source": [
    "## Monte-Carlo \n",
    "#### Adiciona um ruido N ~ (0 , 2%) em p(i, j) com i ≠ j"
   ]
  },
  {
   "cell_type": "code",
   "execution_count": 299,
   "metadata": {
    "collapsed": false
   },
   "outputs": [],
   "source": [
    "\n",
    "VectorOfW_matrix = []\n",
    "std_vector = []\n",
    "\n",
    "for n in range(100000):\n",
    "\n",
    "    correl_matrix2 = np.empty((size,size))\n",
    "    for i in range(size):\n",
    "\n",
    "        for j in range(size):\n",
    "\n",
    "            if i == j:\n",
    "                correl_matrix2[i][j] = 1\n",
    "\n",
    "            else:\n",
    "                correl_matrix2[i][j] = correl_matrix[i][j] + np.random.normal(0,0.02)\n",
    "                \n",
    "    cov_matrix2 = np.matmul(np.matmul(vol_matrix,correl_matrix2),vol_matrix)\n",
    "    \n",
    "    MinVarW_vector2 = (np.matmul(np.linalg.inv(cov_matrix2),ones_vector))\\\n",
    "                /(np.matmul(np.matmul(ones_vector,np.linalg.inv(cov_matrix2)),ones_vector))\n",
    "        \n",
    "    \n",
    "    vol_final = (np.matmul(np.matmul(MinVarW_vector2,cov_matrix2),MinVarW_vector2))\n",
    "    \n",
    "    VectorOfW_matrix.append(MinVarW_vector2)\n",
    "    std_vector.append(vol_final)\n",
    "    \n",
    "    \n",
    "VectorOfW_matrix = np.matrix(VectorOfW_matrix)\n",
    "\n"
   ]
  },
  {
   "cell_type": "code",
   "execution_count": 300,
   "metadata": {
    "collapsed": false
   },
   "outputs": [],
   "source": [
    "np.savetxt(\"pesos.csv\", VectorOfW_matrix, delimiter=\",\")"
   ]
  },
  {
   "cell_type": "code",
   "execution_count": 301,
   "metadata": {
    "collapsed": false
   },
   "outputs": [
    {
     "data": {
      "image/png": "[encoded data removed]",
      "text/plain": [
       "<matplotlib.figure.Figure at 0xa923e80>"
      ]
     },
     "metadata": {},
     "output_type": "display_data"
    }
   ],
   "source": [
    "colours = ('b','g','r','c','m')\n",
    "plt.hist(VectorOfW_matrix, bins = 'auto', range = (-1.5,1.5), histtype = 'step', color = colours)\n",
    "plt.show()"
   ]
  },
  {
   "cell_type": "code",
   "execution_count": 302,
   "metadata": {
    "collapsed": false
   },
   "outputs": [
    {
     "data": {
      "image/png": "[encoded data removed]",
      "text/plain": [
       "<matplotlib.figure.Figure at 0xa9239e8>"
      ]
     },
     "metadata": {},
     "output_type": "display_data"
    }
   ],
   "source": [
    "plt.plot(std_vector)\n",
    "plt.show()\n"
   ]
  },
  {
   "cell_type": "code",
   "execution_count": 303,
   "metadata": {
    "collapsed": false
   },
   "outputs": [
    {
     "data": {
      "image/png": "[encoded data removed]",
      "text/plain": [
       "<matplotlib.figure.Figure at 0x9f89eb8>"
      ]
     },
     "metadata": {},
     "output_type": "display_data"
    }
   ],
   "source": [
    "plt.hist(std_vector, bins ='auto',range = (0.05,0.1))\n",
    "plt.show()"
   ]
  },
  {
   "cell_type": "code",
   "execution_count": null,
   "metadata": {
    "collapsed": true
   },
   "outputs": [],
   "source": []
  }
 ],
 "metadata": {
  "kernelspec": {
   "display_name": "Python 3",
   "language": "python",
   "name": "python3"
  },
  "language_info": {
   "codemirror_mode": {
    "name": "ipython",
    "version": 3
   },
   "file_extension": ".py",
   "mimetype": "text/x-python",
   "name": "python",
   "nbconvert_exporter": "python",
   "pygments_lexer": "ipython3",
   "version": "3.6.0"
  }
 },
 "nbformat": 4,
 "nbformat_minor": 2
}
